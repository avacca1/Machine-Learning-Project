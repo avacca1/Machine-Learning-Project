{
 "cells": [
  {
   "cell_type": "code",
   "execution_count": 1,
   "id": "6cc7a16c",
   "metadata": {},
   "outputs": [
    {
     "name": "stderr",
     "output_type": "stream",
     "text": [
      "[nltk_data] Downloading package punkt to /home/angelo/nltk_data...\n",
      "[nltk_data]   Package punkt is already up-to-date!\n"
     ]
    }
   ],
   "source": [
    "import numpy as np\n",
    "import pandas as pd\n",
    "from sklearn.preprocessing import OneHotEncoder\n",
    "import nltk\n",
    "nltk.download('punkt')\n",
    "from nltk.tokenize import word_tokenize\n",
    "from sklearn.feature_extraction.text import TfidfVectorizer"
   ]
  },
  {
   "cell_type": "code",
   "execution_count": 9,
   "id": "3c84226d",
   "metadata": {},
   "outputs": [],
   "source": [
    "def makeData(n_samples=93240,n_features=11,dataPath=\"News_Final.csv\"):\n",
    "    data = pd.read_csv(dataPath)\n",
    "    data = data.to_numpy()\n",
    "    \n",
    "    labels = data[:n_samples,-3:]\n",
    "    X = data[:n_samples,:-3]\n",
    "    \n",
    "    # omitting rows with no usable labels\n",
    "    bool_matrix = np.any(labels != 0, axis=1)\n",
    "    labels = labels[bool_matrix]\n",
    "    X = X[bool_matrix]\n",
    "    \n",
    "    bool_matrix = labels[:, 1] != -1\n",
    "    labels = labels[bool_matrix]\n",
    "    X = X[bool_matrix]\n",
    "    \n",
    "    \n",
    "    return X,labels"
   ]
  },
  {
   "cell_type": "code",
   "execution_count": 10,
   "id": "bfa896f8",
   "metadata": {},
   "outputs": [],
   "source": [
    "def splitData(X, labels, test_size, seed):\n",
    "    np.random.seed(seed)\n",
    "    \n",
    "    indices = range(X.shape[0])\n",
    "    train_indices = np.random.choice(indices,size = int(len(indices) * (1-test_size)),replace=False)\n",
    "    test_indices = np.setdiff1d(indices,train_indices)\n",
    "    \n",
    "    X_train = X[train_indices]\n",
    "    X_test = X[test_indices]  \n",
    "    \n",
    "    y_train = labels[train_indices]\n",
    "    y_test = labels[test_indices]\n",
    "    \n",
    "    return X_train,X_test,y_train,y_test"
   ]
  },
  {
   "cell_type": "code",
   "execution_count": 11,
   "id": "acb0c4b8",
   "metadata": {},
   "outputs": [],
   "source": [
    "from pandas.core.internals.blocks import final\n",
    "class NewsData(object):\n",
    "    def __init__(self):\n",
    "        self.X, self.labels = makeData(15000)\n",
    "        self.X_train, self.X_test, self.y_train, self.y_test = splitData(self.X,self.labels, 0.2, 2023)\n",
    "        self.encoder = OneHotEncoder()\n",
    "        self.vectorizer = TfidfVectorizer()\n",
    "        self.tfidf = None\n",
    "        self.corpus = []\n",
    "        \n",
    "    def OneHotEncodeTrain(self, index):\n",
    "        col = np.array(self.X_train[:,index]).reshape(-1, 1)\n",
    "        self.encoder.fit(col)\n",
    "        one_hot_data = self.encoder.transform(col).toarray()\n",
    "        for i in range(self.X_train.shape[0]):\n",
    "            self.X_train[i][index] = list(one_hot_data[i])\n",
    "            \n",
    "    def OneHotEncodeTest(self, index):\n",
    "        col = np.array(self.X_test[:,index]).reshape(-1, 1)\n",
    "        self.encoder.fit(col)\n",
    "        one_hot_data = self.encoder.transform(col).toarray()\n",
    "        for i in range(self.X_test.shape[0]):\n",
    "            self.X_test[i][index] = list(one_hot_data[i])\n",
    "    \n",
    "    def getCorpus(self, index):\n",
    "        col = np.array(self.X_train[:,index]).reshape(-1, 1)\n",
    "        col = [str(x) for x in col]\n",
    "\n",
    "        row_strings = [''.join(row) for row in col]\n",
    "        final_string = ''.join(row_strings)\n",
    "\n",
    "        final_string = word_tokenize(final_string)\n",
    "        final_string = np.unique(final_string)\n",
    "\n",
    "        self.corpus.append(final_string.tolist())\n",
    "\n",
    "    def combineCorpus(self):\n",
    "        i = 1\n",
    "        while i < len(self.corpus):\n",
    "            for x in self.corpus[i]:\n",
    "                self.corpus[0].append(str(x))\n",
    "            i+=1\n",
    "        self.corpus = self.corpus[0]\n",
    "        self.corpus = np.unique(self.corpus).tolist()\n",
    "        self.corpus = pd.DataFrame(self.corpus, columns=['words'])\n",
    "\n",
    "    def vectorizeTrain(self, index):\n",
    "        if self.tfidf is None:\n",
    "            self.tfidf = self.vectorizer.fit_transform(self.corpus['words'].values.astype('U'))\n",
    "        for i in range(self.X_train.shape[0]):\n",
    "            if type(newsData.X_train[i][index]) != type('str'):\n",
    "                newsData.X_train[i][index] = \"\"\n",
    "            self.X_train[i][index] = newsData.vectorizer.transform([newsData.X_train[i][index]])\n",
    "    \n",
    "    def vectorizeTest(self, index):\n",
    "        if self.tfidf is None:\n",
    "            self.tfidf = self.vectorizer.fit_transform(self.corpus['words'].values.astype('U'))\n",
    "        for i in range(self.X_test.shape[0]):\n",
    "            if type(newsData.X_test[i][index]) != type('str'):\n",
    "                newsData.X_test[i][index] = \"\"\n",
    "            self.X_test[i][index] = newsData.vectorizer.transform([newsData.X_test[i][index]])\n",
    "\n",
    "        return self.tfidf.toarray()"
   ]
  },
  {
   "cell_type": "code",
   "execution_count": 12,
   "id": "ded7c0cd",
   "metadata": {},
   "outputs": [
    {
     "data": {
      "text/plain": [
       "array([[0., 0., 0., ..., 0., 0., 0.],\n",
       "       [0., 0., 0., ..., 0., 0., 0.],\n",
       "       [0., 0., 0., ..., 0., 0., 0.],\n",
       "       ...,\n",
       "       [0., 0., 0., ..., 0., 0., 0.],\n",
       "       [0., 0., 0., ..., 0., 0., 0.],\n",
       "       [0., 0., 0., ..., 0., 0., 0.]])"
      ]
     },
     "execution_count": 12,
     "metadata": {},
     "output_type": "execute_result"
    }
   ],
   "source": [
    "newsData = NewsData()\n",
    "newsData.OneHotEncodeTrain(3)\n",
    "newsData.OneHotEncodeTrain(4)\n",
    "\n",
    "newsData.OneHotEncodeTest(3)\n",
    "newsData.OneHotEncodeTest(4)\n",
    "\n",
    "newsData.getCorpus(1)\n",
    "newsData.getCorpus(2)\n",
    "newsData.combineCorpus()\n",
    "\n",
    "newsData.vectorizeTrain(1)\n",
    "newsData.vectorizeTrain(2)\n",
    "\n",
    "newsData.vectorizeTest(1)\n",
    "newsData.vectorizeTest(2)"
   ]
  }
 ],
 "metadata": {
  "kernelspec": {
   "display_name": "Python 3 (ipykernel)",
   "language": "python",
   "name": "python3"
  },
  "language_info": {
   "codemirror_mode": {
    "name": "ipython",
    "version": 3
   },
   "file_extension": ".py",
   "mimetype": "text/x-python",
   "name": "python",
   "nbconvert_exporter": "python",
   "pygments_lexer": "ipython3",
   "version": "3.9.7"
  }
 },
 "nbformat": 4,
 "nbformat_minor": 5
}
