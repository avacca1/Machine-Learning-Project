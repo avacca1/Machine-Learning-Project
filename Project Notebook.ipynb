{
 "cells": [
  {
   "cell_type": "code",
   "execution_count": 20,
   "id": "6cc7a16c",
   "metadata": {},
   "outputs": [],
   "source": [
    "import numpy as np\n",
    "import pandas as pd\n",
    "from sklearn.preprocessing import OneHotEncoder\n",
    "import nltk\n",
    "from nltk.tokenize import word_tokenize"
   ]
  },
  {
   "cell_type": "code",
   "execution_count": 21,
   "id": "3c84226d",
   "metadata": {},
   "outputs": [],
   "source": [
    "def makeData(n_samples=93240,n_features=11,dataPath=\"News_Final.csv\"):\n",
    "    data = pd.read_csv(dataPath)\n",
    "    data = data.to_numpy()\n",
    "    \n",
    "    labels = data[:,-3:]\n",
    "    X = data[:,:-3]\n",
    "    \n",
    "    # omitting rows with no usable labels\n",
    "    bool_matrix = np.any(labels != 0, axis=1)\n",
    "    labels = labels[bool_matrix]\n",
    "    X = X[bool_matrix]\n",
    "    \n",
    "    bool_matrix = labels[:, 1] != -1\n",
    "    labels = labels[bool_matrix]\n",
    "    X = X[bool_matrix]\n",
    "    \n",
    "    \n",
    "    return X,labels"
   ]
  },
  {
   "cell_type": "code",
   "execution_count": 22,
   "id": "bfa896f8",
   "metadata": {},
   "outputs": [],
   "source": [
    "def splitData(X, labels, test_size, seed):\n",
    "    np.random.seed(seed)\n",
    "    \n",
    "    indices = range(X.shape[0])\n",
    "    train_indices = np.random.choice(indices,size = int(len(indices) * (1-test_size)),replace=False)\n",
    "    test_indices = np.setdiff1d(indices,train_indices)\n",
    "    \n",
    "    X_train = X[train_indices]\n",
    "    X_test = X[test_indices]  \n",
    "    \n",
    "    y_train = labels[train_indices]\n",
    "    y_test = labels[test_indices]\n",
    "    \n",
    "    return X_train,X_test,y_train,y_test"
   ]
  },
  {
   "cell_type": "code",
   "execution_count": 53,
   "id": "acb0c4b8",
   "metadata": {},
   "outputs": [],
   "source": [
    "from pandas.core.internals.blocks import final\n",
    "class NewsData(object):\n",
    "    def __init__(self):\n",
    "        self.X, self.labels = makeData()\n",
    "        self.X_train, self.X_test, self.y_train, self.y_test = splitData(self.X,self.labels, 0.2, 2023)\n",
    "        self.encoder = OneHotEncoder()\n",
    "        self.corpus = []\n",
    "        \n",
    "    def OneHotEncodeTrain(self, index):\n",
    "        col = np.array(self.X_train[:,index]).reshape(-1, 1)\n",
    "        self.encoder.fit(col)\n",
    "        one_hot_data = self.encoder.transform(col).toarray()\n",
    "        for i in range(self.X_train.shape[0]):\n",
    "            self.X_train[i][index] = list(one_hot_data[i])\n",
    "            \n",
    "    def OneHotEncodeTest(self, index):\n",
    "        col = np.array(self.X_test[:,index]).reshape(-1, 1)\n",
    "        self.encoder.fit(col)\n",
    "        one_hot_data = self.encoder.transform(col).toarray()\n",
    "        for i in range(self.X_test.shape[0]):\n",
    "            self.X_test[i][index] = list(one_hot_data[i])\n",
    "    \n",
    "    def getCorpus(self, index):\n",
    "        col = np.array(self.X_train[:,index]).reshape(-1, 1)\n",
    "        row_strings = [''.join(row) for row in col]\n",
    "        final_string = ''.join(row_strings)\n",
    "        final_string = word_tokenize(final_string)\n",
    "        final_string = np.unique(final_string)\n",
    "        self.corpus.append(final_string)"
   ]
  },
  {
   "cell_type": "code",
   "execution_count": 56,
   "id": "ded7c0cd",
   "metadata": {},
   "outputs": [
    {
     "name": "stdout",
     "output_type": "stream",
     "text": [
      "55158\n"
     ]
    }
   ],
   "source": [
    "newsData = NewsData()\n",
    "# print(newsData.X_train[0])\n",
    "# newsData.OneHotEncodeTest(3)\n",
    "# newsData.OneHotEncodeTest(4)\n",
    "# print(newsData.X_train[0])\n",
    "newsData.getCorpus(1)"
   ]
  }
 ],
 "metadata": {
  "kernelspec": {
   "display_name": "Python 3 (ipykernel)",
   "language": "python",
   "name": "python3"
  },
  "language_info": {
   "codemirror_mode": {
    "name": "ipython",
    "version": 3
   },
   "file_extension": ".py",
   "mimetype": "text/x-python",
   "name": "python",
   "nbconvert_exporter": "python",
   "pygments_lexer": "ipython3",
   "version": "3.9.7"
  }
 },
 "nbformat": 4,
 "nbformat_minor": 5
}
