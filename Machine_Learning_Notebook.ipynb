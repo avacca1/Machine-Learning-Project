{
  "nbformat": 4,
  "nbformat_minor": 0,
  "metadata": {
    "colab": {
      "provenance": []
    },
    "kernelspec": {
      "name": "python3",
      "display_name": "Python 3"
    },
    "language_info": {
      "name": "python"
    }
  },
  "cells": [
    {
      "cell_type": "code",
      "execution_count": 7,
      "metadata": {
        "colab": {
          "base_uri": "https://localhost:8080/"
        },
        "id": "tJ684dx-kqtG",
        "outputId": "a2885331-7226-4072-d8fb-b52c86e5ee68"
      },
      "outputs": [
        {
          "output_type": "stream",
          "name": "stderr",
          "text": [
            "[nltk_data] Downloading package punkt to /root/nltk_data...\n",
            "[nltk_data]   Package punkt is already up-to-date!\n",
            "[nltk_data] Downloading package stopwords to /root/nltk_data...\n",
            "[nltk_data]   Package stopwords is already up-to-date!\n"
          ]
        }
      ],
      "source": [
        "import numpy as np\n",
        "import pandas as pd\n",
        "import datetime\n",
        "import time\n",
        "import matplotlib.pyplot as plt\n",
        "from sklearn.preprocessing import OneHotEncoder\n",
        "from sklearn.tree import DecisionTreeClassifier\n",
        "from sklearn.ensemble import RandomForestClassifier, AdaBoostClassifier\n",
        "from sklearn.metrics import accuracy_score, f1_score, r2_score\n",
        "from sklearn.cluster import KMeans\n",
        "import nltk\n",
        "nltk.download('punkt')\n",
        "from nltk.tokenize import word_tokenize\n",
        "from nltk.corpus import stopwords\n",
        "import string\n",
        "from nltk.stem.porter import *\n",
        "nltk.download('stopwords')\n",
        "from sklearn.feature_extraction.text import TfidfVectorizer"
      ]
    },
    {
      "cell_type": "code",
      "source": [
        "def minmax(data, col):\n",
        "    new_data = data\n",
        "    max_num = np.max(new_data[:,col])\n",
        "    min_num = np.min(new_data[:,col])\n",
        "\n",
        "    for i in range(new_data.shape[0]):\n",
        "        new_data[i][col] = (new_data[i][col] - min_num) / (max_num - min_num)\n",
        "    \n",
        "    return new_data"
      ],
      "metadata": {
        "id": "Khr102HnktEl"
      },
      "execution_count": 8,
      "outputs": []
    },
    {
      "cell_type": "code",
      "source": [
        "def makeData(n_samples=93240,n_features=11,dataPath=\"News_Final.csv\"):\n",
        "    data = pd.read_csv(dataPath)\n",
        "    data[\"PublishDate\"] = pd.to_datetime(data[\"PublishDate\"], format=\"%Y-%m-%d %H:%M:%S\")\n",
        "    data['PublishDate'] = data['PublishDate'].apply(lambda x: time.mktime(x.timetuple()))\n",
        "    data = data.to_numpy()\n",
        "    \n",
        "    labels = data[:n_samples,-3:]\n",
        "    X = data[:n_samples,:-3]\n",
        "    \n",
        "    # omitting rows with no usable labels\n",
        "    bool_matrix = np.any(labels != 0, axis=1)\n",
        "    labels = labels[bool_matrix]\n",
        "    X = X[bool_matrix]\n",
        "    \n",
        "    bool_matrix = labels[:, 1] != -1\n",
        "    labels = labels[bool_matrix]\n",
        "    X = X[bool_matrix]\n",
        "\n",
        "\n",
        "    ### changing the lables \n",
        "    minmax(labels,0)\n",
        "    minmax(labels,1)\n",
        "    minmax(labels,2)\n",
        "    minmax(X,5)\n",
        "\n",
        "    Y_new = np.zeros(labels.shape[0])\n",
        "    for i in range(labels.shape[0]):\n",
        "        if labels[i][0] == -1 and labels[i][1] == -1 and labels[i][2] == -1:\n",
        "            Y_new[i] = -1\n",
        "\n",
        "        if labels[i][0] >= labels[i][1] and labels[i][0] >= labels[i][1]:\n",
        "            Y_new[i] = 0\n",
        "        elif labels[i][1] >= labels[i][0] and labels[i][1] >= labels[i][2]:\n",
        "            Y_new[i] = 1\n",
        "        elif labels[i][2] >= labels[i][1] and labels[i][2] >= labels[i][0]:\n",
        "            Y_new[i] = 2\n",
        "\n",
        "    labels = Y_new\n",
        "    ###\n",
        "    \n",
        "    \n",
        "    return X,labels"
      ],
      "metadata": {
        "id": "eAHEBUMHkuM4"
      },
      "execution_count": 9,
      "outputs": []
    },
    {
      "cell_type": "code",
      "source": [
        "def splitData(X, labels, test_size, seed):\n",
        "    np.random.seed(seed)\n",
        "    \n",
        "    indices = range(X.shape[0])\n",
        "    train_indices = np.random.choice(indices,size = int(len(indices) * (1-test_size)),replace=False)\n",
        "    test_indices = np.setdiff1d(indices,train_indices)\n",
        "    \n",
        "    X_train = X[train_indices]\n",
        "    X_test = X[test_indices]  \n",
        "    \n",
        "    y_train = labels[train_indices]\n",
        "    y_test = labels[test_indices]\n",
        "    \n",
        "    return X_train,X_test,y_train,y_test"
      ],
      "metadata": {
        "id": "5AicWSXvkv50"
      },
      "execution_count": 10,
      "outputs": []
    },
    {
      "cell_type": "code",
      "source": [
        "from pandas.core.internals.blocks import final\n",
        "class NewsData(object):\n",
        "    def __init__(self):\n",
        "        self.X, self.labels = makeData(5000)\n",
        "        self.X_train, self.X_test, self.y_train, self.y_test = splitData(self.X,self.labels, 0.2, 2023)\n",
        "        self.encoder = OneHotEncoder()\n",
        "        self.vectorizer = TfidfVectorizer()\n",
        "        self.tfidf = None\n",
        "        self.corpus = []\n",
        "        \n",
        "    def OneHotEncodeTrain(self, index):\n",
        "        col = np.array(self.X_train[:,index]).reshape(-1, 1)\n",
        "        self.encoder.fit(col)\n",
        "        one_hot_data = self.encoder.transform(col).toarray()\n",
        "        for i in range(self.X_train.shape[0]):\n",
        "            self.X_train[i][index] = list(one_hot_data[i])\n",
        "            \n",
        "    def OneHotEncodeTest(self, index):\n",
        "        col = np.array(self.X_test[:,index]).reshape(-1, 1)\n",
        "        self.encoder.fit(col)\n",
        "        one_hot_data = self.encoder.transform(col).toarray()\n",
        "        for i in range(self.X_test.shape[0]):\n",
        "            self.X_test[i][index] = list(one_hot_data[i])\n",
        "    \n",
        "    def getCorpus(self, index):\n",
        "        col = np.array(self.X_train[:,index]).reshape(-1, 1)\n",
        "        col = [str(x) for x in col]\n",
        "\n",
        "        row_strings = [''.join(row) for row in col]\n",
        "        final_string = ''.join(row_strings)\n",
        "\n",
        "        tokens = word_tokenize(final_string)\n",
        "\n",
        "        stemmer = PorterStemmer()\n",
        "        stemmed_tokens = [stemmer.stem(token) for token in tokens]\n",
        "\n",
        "        final_string = np.unique(stemmed_tokens)\n",
        "\n",
        "        self.corpus.append(final_string.tolist())\n",
        "\n",
        "    def combineCorpus(self):\n",
        "        i = 1\n",
        "        while i < len(self.corpus):\n",
        "            for x in self.corpus[i]:\n",
        "                self.corpus[0].append(str(x))\n",
        "            i+=1\n",
        "        self.corpus = self.corpus[0]\n",
        "        self.corpus = np.unique(self.corpus).tolist()\n",
        "        self.corpus = pd.DataFrame(self.corpus, columns=['words'])\n",
        "\n",
        "    def vectorizeTrain(self, index):\n",
        "        if self.tfidf is None:\n",
        "            self.tfidf = self.vectorizer.fit_transform(self.corpus['words'].values.astype('U'))\n",
        "        for i in range(self.X_train.shape[0]):\n",
        "            if type(self.X_train[i][index]) != type('str'):\n",
        "                self.X_train[i][index] = \"\"\n",
        "            self.X_train[i][index] = (self.vectorizer.transform([self.X_train[i][index]]))\n",
        "    \n",
        "    def vectorizeTest(self, index):\n",
        "        if self.tfidf is None:\n",
        "            self.tfidf = self.vectorizer.fit_transform(self.corpus['words'].values.astype('U'))\n",
        "        for i in range(self.X_test.shape[0]):\n",
        "            if type(self.X_test[i][index]) != type('str'):\n",
        "                self.X_test[i][index] = \"\"\n",
        "            self.X_test[i][index] = (self.vectorizer.transform([self.X_test[i][index]]))\n",
        "\n",
        "        return self.tfidf.toarray()\n",
        "    \n",
        "\n",
        "    def makeCorpus(self, col_num):\n",
        "        \n",
        "        col_train = self.X_train[:, col_num]\n",
        "        col_test = self.X_test[:, col_num]\n",
        "\n",
        "        \n",
        "        stemmer = PorterStemmer()\n",
        "        for col in [col_train, col_test]:\n",
        "            for sentence in col:\n",
        "                words = word_tokenize(sentence.lower())\n",
        "                stemmed_words = [stemmer.stem(word) for word in words]\n",
        "                self.corpus.extend(stemmed_words)\n",
        "\n",
        "        self.corpus = list(set(self.corpus))\n",
        "\n",
        "    def get_top_words(self, numwords = 100):\n",
        "        vectorizer = TfidfVectorizer()\n",
        "        vectorizer.fit_transform([' '.join(self.corpus)])\n",
        "\n",
        "        feature_names = list(vectorizer.vocabulary_.keys())\n",
        "        tfidf_scores = vectorizer.transform([' '.join(self.corpus)])\n",
        "\n",
        "\n",
        "        top_keywords_idx = tfidf_scores.toarray()[0].argsort()[::-1][:numwords]\n",
        "        top_keywords = [feature_names[i] for i in top_keywords_idx]\n",
        "\n",
        "        return top_keywords\n",
        "    \n",
        "    def count_top_words(self):\n",
        "\n",
        "        top_keywords = self.get_top_words()\n",
        "\n",
        "        count_train = np.zeros((self.X_train.shape[0], len(top_keywords)))\n",
        "        count_test = np.zeros((self.X_test.shape[0], len(top_keywords)))\n",
        "\n",
        "        for i, keyword in enumerate(top_keywords):\n",
        "\n",
        "\n",
        "            for j, sentence in enumerate(self.X_train[:, 1]):\n",
        "                words = word_tokenize(sentence.lower())\n",
        "                stemmed_words = [PorterStemmer().stem(word) for word in words]\n",
        "                count_train[j][i] = stemmed_words.count(keyword)\n",
        "\n",
        "\n",
        "            for j, sentence in enumerate(self.X_train[:, 2]):\n",
        "                words = word_tokenize(sentence.lower())\n",
        "                stemmed_words = [PorterStemmer().stem(word) for word in words]\n",
        "                count_train[j][i] += stemmed_words.count(keyword)\n",
        "\n",
        "\n",
        "            for j, sentence in enumerate(self.X_test[:, 1]):\n",
        "                words = word_tokenize(sentence.lower())\n",
        "                stemmed_words = [PorterStemmer().stem(word) for word in words]\n",
        "                count_test[j][i] += stemmed_words.count(keyword)\n",
        "\n",
        "            \n",
        "            for j, sentence in enumerate(self.X_test[:, 2]):\n",
        "                words = word_tokenize(sentence.lower())\n",
        "                stemmed_words = [PorterStemmer().stem(word) for word in words]\n",
        "                count_test[j][i] += stemmed_words.count(keyword)\n",
        "\n",
        "        self.X_train = np.concatenate((self.X_train, count_train), axis=1)\n",
        "        self.X_test = np.concatenate((self.X_test, count_test), axis=1)\n",
        "\n",
        "    "
      ],
      "metadata": {
        "id": "mnw5nkQAkyCm"
      },
      "execution_count": 11,
      "outputs": []
    },
    {
      "cell_type": "code",
      "source": [
        "newsData = NewsData()\n",
        "newsData.OneHotEncodeTrain(3)\n",
        "newsData.OneHotEncodeTrain(4)\n",
        "\n",
        "print(\"1\")\n",
        "newsData.OneHotEncodeTest(3)\n",
        "newsData.OneHotEncodeTest(4)\n",
        "print(\"2\")\n",
        "newsData.makeCorpus(1)\n",
        "newsData.makeCorpus(2)\n",
        "newsData.get_top_words(10)\n",
        "newsData.count_top_words()\n",
        "newsData.X_train = np.delete(newsData.X_train, 1, axis=1)\n",
        "newsData.X_train = np.delete(newsData.X_train, 1, axis=1)\n",
        "# np.concatenate((newsData.X_train, newsData.X_train[]), axis=1)\n",
        "newsData.X_train = np.delete(newsData.X_train, 1, axis=1)\n",
        "newsData.X_train = np.delete(newsData.X_train, 1, axis=1)\n",
        "newsData.X_test = np.delete(newsData.X_test, 1, axis=1)\n",
        "newsData.X_test = np.delete(newsData.X_test, 1, axis=1)\n",
        "newsData.X_test = np.delete(newsData.X_test, 1, axis=1)\n",
        "newsData.X_test = np.delete(newsData.X_test, 1, axis=1)"
      ],
      "metadata": {
        "colab": {
          "base_uri": "https://localhost:8080/"
        },
        "id": "kfJb0-SlR0U4",
        "outputId": "44d2c998-d3a8-4f06-fb61-e9de7d8b377c"
      },
      "execution_count": 12,
      "outputs": [
        {
          "output_type": "stream",
          "name": "stdout",
          "text": [
            "1\n",
            "2\n"
          ]
        }
      ]
    },
    {
      "cell_type": "code",
      "source": [
        "print(type(newsData.X_train))\n",
        "print((newsData.y_train.shape))\n",
        "\n",
        "kmeans_X_train = np.column_stack((newsData.X_train, newsData.y_train))\n",
        "kmeans_X_test = np.column_stack((newsData.X_test, newsData.y_test))\n",
        "print(kmeans_X_train)"
      ],
      "metadata": {
        "colab": {
          "base_uri": "https://localhost:8080/"
        },
        "id": "T0TQx0f1XRPI",
        "outputId": "47d970d2-6af8-4e37-f1bc-0f0d57390178"
      },
      "execution_count": 13,
      "outputs": [
        {
          "output_type": "stream",
          "name": "stdout",
          "text": [
            "<class 'numpy.ndarray'>\n",
            "(2456,)\n",
            "[[3437.0 0.8874523658137077 0.0 ... 0.0 0.0 1.0]\n",
            " [1699.0 0.372209005124491 0.0729166666666665 ... 0.0 0.0 0.0]\n",
            " [1388.0 0.31147052259702634 0.0441941738241592 ... 0.0 0.0 0.0]\n",
            " ...\n",
            " [2862.0 0.7360158661316198 0.125988157669742 ... 0.0 0.0 0.0]\n",
            " [3600.0 0.9179214020135839 -0.220970869120796 ... 0.0 0.0 0.0]\n",
            " [2532.0 0.6501282175445393 -0.0188444590361102 ... 0.0 0.0 0.0]]\n"
          ]
        }
      ]
    },
    {
      "cell_type": "code",
      "source": [
        "trainarr = KMeans(n_clusters=3, random_state=0, n_init=\"auto\").fit_transform(newsData.X_train)\n",
        "testarr = KMeans(n_clusters=3, random_state=0, n_init=\"auto\").fit_transform(newsData.X_test)\n",
        "kmeans = KMeans(n_clusters=3, random_state=0, n_init=\"auto\").fit(trainarr)"
      ],
      "metadata": {
        "id": "hzMzBxG7UkXy"
      },
      "execution_count": 14,
      "outputs": []
    },
    {
      "cell_type": "code",
      "source": [
        "from scipy.optimize import linear_sum_assignment\n",
        "def evaluate_clustering(trained_model, X, labels):\n",
        "    \"\"\"\n",
        "    Compute the ratio of correct matches between clusters from the trained model and the true labels\n",
        "    :param trained_model: Unsupervised learning model that predicts clusters\n",
        "    :param X: samples array, shape (num_samples, num_features)\n",
        "    :param labels: true labels array, shape (num_samples,\n",
        "    :return:\n",
        "    \"\"\"\n",
        "    # We can assume that the number of clusters and the number of class labels are the same\n",
        "    clusters = trained_model.predict(X)\n",
        "    # Workspace 1.7\n",
        "    #BEGIN \n",
        "    cost = np.zeros((np.unique(labels).shape[0],np.unique(labels).shape[0]))\n",
        "    for x,y in np.column_stack((clusters.astype(int),labels.astype(int))):\n",
        "        cost[x][y] -= 1\n",
        "    #X mapping\n",
        "    row_ind, col_ind = linear_sum_assignment(cost)\n",
        "    accuracy = np.abs(cost[row_ind,col_ind].sum())/clusters.shape[0]\n",
        "    \n",
        "    \n",
        "    #END\n",
        "    return accuracy"
      ],
      "metadata": {
        "id": "-5HpviSqbmTf"
      },
      "execution_count": 15,
      "outputs": []
    },
    {
      "cell_type": "code",
      "source": [
        "%matplotlib inline\n",
        "accuracies = []\n",
        "for i in range(20):\n",
        "    trainarr = KMeans(n_clusters=3, n_init=\"auto\").fit_transform(newsData.X_train)\n",
        "    testarr = KMeans(n_clusters=3, n_init=\"auto\").fit_transform(newsData.X_test)\n",
        "    kmeans = KMeans(n_clusters=3, n_init=\"auto\").fit(trainarr)\n",
        "    accuracies.append(evaluate_clustering(kmeans, testarr, newsData.y_test))\n",
        "plt.hist(accuracies)"
      ],
      "metadata": {
        "colab": {
          "base_uri": "https://localhost:8080/",
          "height": 517
        },
        "id": "U3K8OS4SaiAW",
        "outputId": "c8c5d880-d211-438c-966a-28fcaf39ad61"
      },
      "execution_count": 16,
      "outputs": [
        {
          "output_type": "execute_result",
          "data": {
            "text/plain": [
              "(array([8., 1., 1., 3., 0., 0., 0., 0., 0., 7.]),\n",
              " array([0.35609756, 0.37252033, 0.38894309, 0.40536585, 0.42178862,\n",
              "        0.43821138, 0.45463415, 0.47105691, 0.48747967, 0.50390244,\n",
              "        0.5203252 ]),\n",
              " <BarContainer object of 10 artists>)"
            ]
          },
          "metadata": {},
          "execution_count": 16
        },
        {
          "output_type": "display_data",
          "data": {
            "text/plain": [
              "<Figure size 640x480 with 1 Axes>"
            ],
            "image/png": "[encoded data removed]"
          },
          "metadata": {}
        }
      ]
    },
    {
      "cell_type": "code",
      "source": [
        "import scipy\n",
        "\n",
        "print(\"Mode:\",scipy.stats.mode(accuracies))\n",
        "print(\"Mean:\",np.mean(accuracies))\n",
        "print(\"Median:\",np.median(accuracies))\n",
        "print(\"Highest:\",np.max(accuracies))\n",
        "print(\"Lowest:\",np.min(accuracies))"
      ],
      "metadata": {
        "colab": {
          "base_uri": "https://localhost:8080/"
        },
        "id": "koVgiSe_BsvO",
        "outputId": "94f6b220-ecf4-491e-b8bc-b84b209541e6"
      },
      "execution_count": 20,
      "outputs": [
        {
          "output_type": "stream",
          "name": "stdout",
          "text": [
            "Mode: ModeResult(mode=array([0.5203252]), count=array([7]))\n",
            "Mean: 0.4284552845528455\n",
            "Median: 0.40731707317073174\n",
            "Highest: 0.5203252032520326\n",
            "Lowest: 0.35609756097560974\n"
          ]
        },
        {
          "output_type": "stream",
          "name": "stderr",
          "text": [
            "<ipython-input-20-76da8ec8a361>:3: FutureWarning: Unlike other reduction functions (e.g. `skew`, `kurtosis`), the default behavior of `mode` typically preserves the axis it acts along. In SciPy 1.11.0, this behavior will change: the default value of `keepdims` will become False, the `axis` over which the statistic is taken will be eliminated, and the value None will no longer be accepted. Set `keepdims` to True or False to avoid this warning.\n",
            "  print(\"Mode:\",scipy.stats.mode(accuracies))\n"
          ]
        }
      ]
    }
  ]
}